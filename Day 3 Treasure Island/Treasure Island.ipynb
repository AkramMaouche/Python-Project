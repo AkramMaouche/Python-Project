{
 "cells": [
  {
   "cell_type": "code",
   "execution_count": null,
   "id": "23e3e97a",
   "metadata": {},
   "outputs": [],
   "source": []
  },
  {
   "cell_type": "code",
   "execution_count": 6,
   "id": "41c935db",
   "metadata": {},
   "outputs": [
    {
     "ename": "SyntaxError",
     "evalue": "invalid syntax (<ipython-input-6-b8b22331a8c2>, line 25)",
     "output_type": "error",
     "traceback": [
      "\u001b[1;36m  File \u001b[1;32m\"<ipython-input-6-b8b22331a8c2>\"\u001b[1;36m, line \u001b[1;32m25\u001b[0m\n\u001b[1;33m    (#/::'''        :: :     \"\"--.._\u001b[0m\n\u001b[1;37m                    ^\u001b[0m\n\u001b[1;31mSyntaxError\u001b[0m\u001b[1;31m:\u001b[0m invalid syntax\n"
     ]
    }
   ],
   "source": [
    "print('''\n",
    "\n",
    "\n",
    "\n",
    "\n",
    "''')\n",
    "\n",
    "print('Welecome to treasue Island , Your Mission is to find hte Treasure ')\n",
    "right = \"reight\"\n",
    "left = \"left\"\n",
    "\n",
    "path = input('Now You\\'re on cross road ,Do you want to go On \"left\" or \"Right\" ?? ').lower()\n",
    "if (path == 'left'): \n",
    "    print('Now you see a river in Front of you')\n",
    "    river = input(\"'Do you want to 'SWIM'or juste 'WAIT'\").lower()\n",
    "    if (river == 'wait'):\n",
    "        print(\"Suddnly 4 Doors appears each one with a specefic color\")\n",
    "        door = input(\"choose a color 'RED', 'BLUE', 'Yellow', or 'Other' \").lower()\n",
    "        if(door == 'yellow'):\n",
    "            print('Something is shine , Congrats you found the treasur')\n",
    "        elif(door == 'red'):\n",
    "            print('burned By fire,GAME OVER')\n",
    "        elif(door == 'blue'):\n",
    "            print('Eaten by beasts,GAME OVER')\n",
    "        else: \n",
    "            print('GAME OVER')\n",
    "              \n",
    "    else: \n",
    "        print(\"Attacked by trout, GAME OVER \")         \n",
    "else :  \n",
    "    print('You\\'re fall into a Whole, GAME OVER')\n",
    "   \n",
    "        \n",
    "        \n",
    "    "
   ]
  },
  {
   "cell_type": "code",
   "execution_count": null,
   "id": "b1c57435",
   "metadata": {},
   "outputs": [],
   "source": []
  },
  {
   "cell_type": "code",
   "execution_count": null,
   "id": "56954532",
   "metadata": {},
   "outputs": [],
   "source": []
  },
  {
   "cell_type": "code",
   "execution_count": null,
   "id": "e2d0ca9f",
   "metadata": {},
   "outputs": [],
   "source": []
  }
 ],
 "metadata": {
  "kernelspec": {
   "display_name": "Python 3",
   "language": "python",
   "name": "python3"
  },
  "language_info": {
   "codemirror_mode": {
    "name": "ipython",
    "version": 3
   },
   "file_extension": ".py",
   "mimetype": "text/x-python",
   "name": "python",
   "nbconvert_exporter": "python",
   "pygments_lexer": "ipython3",
   "version": "3.8.1"
  }
 },
 "nbformat": 4,
 "nbformat_minor": 5
}
