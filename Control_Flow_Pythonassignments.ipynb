{
  "cells": [
    {
      "cell_type": "markdown",
      "metadata": {
        "id": "view-in-github",
        "colab_type": "text"
      },
      "source": [
        "<a href=\"https://colab.research.google.com/github/AkramMaouche/Python-Project/blob/main/Control_Flow_Pythonassignments.ipynb\" target=\"_parent\"><img src=\"https://colab.research.google.com/assets/colab-badge.svg\" alt=\"Open In Colab\"/></a>"
      ]
    },
    {
      "cell_type": "markdown",
      "metadata": {
        "id": "XZlBjckh3zmb"
      },
      "source": [
        "# Module 2: Control Flow Assignments\n",
        "## Lesson 2.1: Conditional Statements\n",
        "### Assignment 1: Simple if Statement\n",
        "\n",
        "Write a program that asks the user to input a number and prints whether the number is positive.\n",
        "\n",
        "### Assignment 2: if-else Statement\n",
        "\n",
        "Write a program that asks the user to input a number and prints whether the number is positive or negative.\n",
        "\n",
        "### Assignment 3: if-elif-else Statement\n",
        "\n",
        "Write a program that asks the user to input a number and prints whether the number is positive, negative, or zero.\n",
        "\n",
        "### Assignment 4: Nested if Statement\n",
        "\n",
        "Write a program that asks the user to input a number and prints whether the number is positive and even, positive and odd, or negative.\n",
        "\n",
        "## Lesson 2.2: Loops\n",
        "### Assignment 5: for Loop\n",
        "\n",
        "Write a program that prints all the numbers from 1 to 10 using a for loop.\n",
        "\n",
        "### Assignment 6: while Loop\n",
        "\n",
        "Write a program that prints all the numbers from 1 to 10 using a while loop.\n",
        "\n",
        "### Assignment 7: Nested Loops\n",
        "\n",
        "Write a program that prints a 5x5 grid of asterisks (*) using nested loops.\n",
        "\n",
        "### Assignment 8: break Statement\n",
        "\n",
        "Write a program that asks the user to input numbers until they input 0. The program should print the sum of all the input numbers.\n",
        "\n",
        "### Assignment 9: continue Statement\n",
        "\n",
        "Write a program that prints all the numbers from 1 to 10 except 5 using a for loop and continue statement.\n",
        "\n",
        "### Assignment 10: pass Statement\n",
        "\n",
        "Write a program that defines an empty function using the pass statement.\n",
        "\n",
        "### Assignment 11: Combining Loops and Conditionals\n",
        "\n",
        "Write a program that asks the user to input a number and prints all the even numbers from 1 to that number using a for loop.\n",
        "\n",
        "### Assignment 12: Factorial Calculation\n",
        "\n",
        "Write a program that calculates the factorial of a number input by the user using a while loop.\n",
        "\n",
        "### Assignment 13: Sum of Digits\n",
        "\n",
        "Write a program that calculates the sum of the digits of a number input by the user using a while loop.\n",
        "\n",
        "### Assignment 14: Prime Number Check\n",
        "\n",
        "Write a program that checks if a number input by the user is a prime number using a for loop.\n",
        "\n",
        "### Assignment 15: Fibonacci Sequence\n",
        "\n",
        "Write a program that prints the first n Fibonacci numbers, where n is input by the user."
      ],
      "id": "XZlBjckh3zmb"
    },
    {
      "cell_type": "markdown",
      "source": [
        "**Assignment 1**"
      ],
      "metadata": {
        "id": "QjQZsnGe7oGJ"
      },
      "id": "QjQZsnGe7oGJ"
    },
    {
      "cell_type": "code",
      "source": [
        "number =input('Enter a number \\n')\n",
        "if int(number) > 0:\n",
        "    print('The number is positive')\n",
        "else:\n",
        "  print('The number is not positive')"
      ],
      "metadata": {
        "colab": {
          "base_uri": "https://localhost:8080/"
        },
        "id": "dJoSeXZQ7nex",
        "outputId": "456542f8-0bfe-4065-ec83-dbd84c3c1445"
      },
      "id": "dJoSeXZQ7nex",
      "execution_count": null,
      "outputs": [
        {
          "output_type": "stream",
          "name": "stdout",
          "text": [
            "Enter a number \n",
            "-5\n",
            "The number is not positive\n"
          ]
        }
      ]
    },
    {
      "cell_type": "markdown",
      "source": [
        "**Assignment 4**"
      ],
      "metadata": {
        "id": "B9NO61-f-7Yo"
      },
      "id": "B9NO61-f-7Yo"
    },
    {
      "cell_type": "code",
      "execution_count": null,
      "metadata": {
        "colab": {
          "base_uri": "https://localhost:8080/"
        },
        "id": "BEW1EaAb3zmd",
        "outputId": "ed7694f6-996c-4b8f-ce16-9e4bc5112641"
      },
      "outputs": [
        {
          "output_type": "stream",
          "name": "stdout",
          "text": [
            "Enter a number \n",
            "5\n",
            "The number is positive and odd\n"
          ]
        }
      ],
      "source": [
        "user_input = int(input('Enter a number \\n'))\n",
        "if user_input > 0 :\n",
        "  if user_input % 2 == 0:\n",
        "    print('The number is positive and even')\n",
        "  else:\n",
        "    print('The number is positive and odd')\n",
        "else:\n",
        "  print('The number is negative')"
      ],
      "id": "BEW1EaAb3zmd"
    },
    {
      "cell_type": "markdown",
      "source": [
        "**Assignment 5**"
      ],
      "metadata": {
        "id": "LwFWc7rOHrUJ"
      },
      "id": "LwFWc7rOHrUJ"
    },
    {
      "cell_type": "code",
      "source": [
        "for i in range (1,10):\n",
        "  print(i)"
      ],
      "metadata": {
        "colab": {
          "base_uri": "https://localhost:8080/"
        },
        "id": "yTEgCc4KHvaZ",
        "outputId": "b90b97a5-dd7a-4ae2-8d86-0a17783bf0fd"
      },
      "id": "yTEgCc4KHvaZ",
      "execution_count": null,
      "outputs": [
        {
          "output_type": "stream",
          "name": "stdout",
          "text": [
            "1\n",
            "2\n",
            "3\n",
            "4\n",
            "5\n",
            "6\n",
            "7\n",
            "8\n",
            "9\n"
          ]
        }
      ]
    },
    {
      "cell_type": "markdown",
      "source": [
        "**Assignment 6**"
      ],
      "metadata": {
        "id": "8DSu-69eH-np"
      },
      "id": "8DSu-69eH-np"
    },
    {
      "cell_type": "code",
      "source": [
        "i = 1\n",
        "while i < 10 :\n",
        "  print(i)\n",
        "  i +=1"
      ],
      "metadata": {
        "colab": {
          "base_uri": "https://localhost:8080/"
        },
        "id": "FhViPEfZH7mR",
        "outputId": "6e5a8fee-c37e-4b43-a6ad-9c2fbfb36320"
      },
      "id": "FhViPEfZH7mR",
      "execution_count": null,
      "outputs": [
        {
          "output_type": "stream",
          "name": "stdout",
          "text": [
            "1\n",
            "2\n",
            "3\n",
            "4\n",
            "5\n",
            "6\n",
            "7\n",
            "8\n",
            "9\n"
          ]
        }
      ]
    },
    {
      "cell_type": "markdown",
      "source": [
        "**Assignment 7**"
      ],
      "metadata": {
        "id": "0ExYLw4fIjxS"
      },
      "id": "0ExYLw4fIjxS"
    },
    {
      "cell_type": "code",
      "source": [
        "for i in range(0,5):\n",
        "  for j in range(0,5):\n",
        "    print('*', end ='')\n",
        "  print()"
      ],
      "metadata": {
        "colab": {
          "base_uri": "https://localhost:8080/"
        },
        "id": "D7zyM2_UIhm6",
        "outputId": "26882219-b440-46d4-d580-753c553b8611"
      },
      "id": "D7zyM2_UIhm6",
      "execution_count": null,
      "outputs": [
        {
          "output_type": "stream",
          "name": "stdout",
          "text": [
            "*****\n",
            "*****\n",
            "*****\n",
            "*****\n",
            "*****\n"
          ]
        }
      ]
    },
    {
      "cell_type": "markdown",
      "source": [
        "**Assignment 8**"
      ],
      "metadata": {
        "id": "yHYQSISvLN3G"
      },
      "id": "yHYQSISvLN3G"
    },
    {
      "cell_type": "code",
      "source": [
        "user_input = int(input(\"Enter a number \\n\"))\n",
        "total = 0\n",
        "while user_input!= 0:\n",
        "  total +=user_input\n",
        "  user_input = int(input('Enter the number again \\n '))\n",
        "print(total)"
      ],
      "metadata": {
        "colab": {
          "base_uri": "https://localhost:8080/"
        },
        "id": "IorpMzCZLPWn",
        "outputId": "dfb6ac37-95a6-4153-bf78-7374d3bb9b54"
      },
      "id": "IorpMzCZLPWn",
      "execution_count": null,
      "outputs": [
        {
          "output_type": "stream",
          "name": "stdout",
          "text": [
            "Enter a number \n",
            "5\n",
            "Enter the number again \n",
            " -2\n",
            "Enter the number again \n",
            " 5\n",
            "Enter the number again \n",
            " 4\n",
            "Enter the number again \n",
            " 0\n",
            "12\n"
          ]
        }
      ]
    },
    {
      "cell_type": "markdown",
      "source": [
        "**Assignment 9**"
      ],
      "metadata": {
        "id": "-kQd0gyuMeXU"
      },
      "id": "-kQd0gyuMeXU"
    },
    {
      "cell_type": "code",
      "source": [
        "for i in range(1,10):\n",
        "  if i  ==5 :\n",
        "    continue\n",
        "  print(i)"
      ],
      "metadata": {
        "colab": {
          "base_uri": "https://localhost:8080/"
        },
        "id": "PRWYOjkCe8iT",
        "outputId": "e5f73db9-63e4-4823-bec8-0cc602a2abe9"
      },
      "id": "PRWYOjkCe8iT",
      "execution_count": null,
      "outputs": [
        {
          "output_type": "stream",
          "name": "stdout",
          "text": [
            "1\n",
            "2\n",
            "3\n",
            "4\n",
            "6\n",
            "7\n",
            "8\n",
            "9\n"
          ]
        }
      ]
    },
    {
      "cell_type": "markdown",
      "source": [
        "**Assignment 11**"
      ],
      "metadata": {
        "id": "U9TuZyCgflpS"
      },
      "id": "U9TuZyCgflpS"
    },
    {
      "cell_type": "code",
      "source": [
        "user_input = int(input('Enter a number '))\n",
        "while True:\n",
        "  if user_input > 0 :\n",
        "    for i in range (0 , user_input):\n",
        "      if i % 2 != 0:\n",
        "        print(i)\n",
        "    break\n",
        "\n",
        "  else :\n",
        "    user_input = int(input('Enter a  positive number '))\n"
      ],
      "metadata": {
        "colab": {
          "base_uri": "https://localhost:8080/"
        },
        "id": "FHouLAfd2toe",
        "outputId": "d612d77a-cef7-47bd-c0dd-7f08dd950928"
      },
      "id": "FHouLAfd2toe",
      "execution_count": 19,
      "outputs": [
        {
          "output_type": "stream",
          "name": "stdout",
          "text": [
            "Enter a number -5\n",
            "Enter a  positive number -22\n",
            "Enter a  positive number -18\n",
            "Enter a  positive number 15\n",
            "1\n",
            "3\n",
            "5\n",
            "7\n",
            "9\n",
            "11\n",
            "13\n"
          ]
        }
      ]
    }
  ],
  "metadata": {
    "kernelspec": {
      "display_name": "Python 3",
      "language": "python",
      "name": "python3"
    },
    "language_info": {
      "codemirror_mode": {
        "name": "ipython",
        "version": 3
      },
      "file_extension": ".py",
      "mimetype": "text/x-python",
      "name": "python",
      "nbconvert_exporter": "python",
      "pygments_lexer": "ipython3",
      "version": "3.9.7"
    },
    "colab": {
      "provenance": [],
      "include_colab_link": true
    }
  },
  "nbformat": 4,
  "nbformat_minor": 5
}