{
 "cells": [
  {
   "cell_type": "markdown",
   "id": "df59ae5e",
   "metadata": {},
   "source": [
    "# Tronsforming ages to Days,Weeks and Months\n"
   ]
  },
  {
   "cell_type": "code",
   "execution_count": 2,
   "id": "f8b75f84",
   "metadata": {},
   "outputs": [
    {
     "name": "stdout",
     "output_type": "stream",
     "text": [
      " Welcome to this Game \n",
      "What is your curent age ?25\n",
      "how many Years have left for you till 90 :65\n",
      "how many Days have left for you till 90 :23725\n",
      "how many Weaks have left for you till 90 :3380\n",
      "how many Months have left for you till 90 :780\n"
     ]
    }
   ],
   "source": [
    "### age of the user\n",
    "print(\" Welcome to this Game \")\n",
    "\n",
    "user_age = input(\"What is your curent age ?\")\n",
    "## How many years have left for you to 90 \n",
    "left_age = 90 - int(user_age)\n",
    "\n",
    "print(f\"how many Years have left for you till 90 :{left_age}\")\n",
    "print(f\"how many Days have left for you till 90 :{left_age * 365}\")\n",
    "print(f\"how many Weeks have left for you till 90 :{left_age * 52}\")\n",
    "print(f\"how many Months have left for you till 90 :{left_age * 12}\")\n",
    "\n",
    "# OR u can print like that \n",
    "\n",
    "f\" stil have {left_age * 365} days\"\n",
    "\n",
    "\n"
   ]
  },
  {
   "cell_type": "code",
   "execution_count": null,
   "id": "aef5c509",
   "metadata": {},
   "outputs": [],
   "source": []
  },
  {
   "cell_type": "code",
   "execution_count": null,
   "id": "aec15ced",
   "metadata": {},
   "outputs": [],
   "source": []
  },
  {
   "cell_type": "code",
   "execution_count": null,
   "id": "dfe60717",
   "metadata": {},
   "outputs": [],
   "source": []
  },
  {
   "cell_type": "code",
   "execution_count": null,
   "id": "de3595cd",
   "metadata": {},
   "outputs": [],
   "source": []
  }
 ],
 "metadata": {
  "kernelspec": {
   "display_name": "Python 3",
   "language": "python",
   "name": "python3"
  },
  "language_info": {
   "codemirror_mode": {
    "name": "ipython",
    "version": 3
   },
   "file_extension": ".py",
   "mimetype": "text/x-python",
   "name": "python",
   "nbconvert_exporter": "python",
   "pygments_lexer": "ipython3",
   "version": "3.8.1"
  }
 },
 "nbformat": 4,
 "nbformat_minor": 5
}
