{
 "cells": [
  {
   "cell_type": "code",
   "execution_count": 21,
   "id": "a23ff849",
   "metadata": {},
   "outputs": [
    {
     "name": "stdout",
     "output_type": "stream",
     "text": [
      "What was the Total beal ? $150\n",
      "What Percetage Tip Would like To give 10, 12 or 15 ?12\n",
      "How Many People to split The Bill: 5\n",
      "Each persone should pay: $33.6\n"
     ]
    }
   ],
   "source": [
    "total_tip  = float (input(\"What was the Total beal ? $\"))\n",
    "## Percentage tip  \n",
    "percentage_tip = int (input(\"What Percetage Tip Would like To give 10, 12 or 15 ?\"))\n",
    "\n",
    "cost =  0 \n",
    "if (percentage_tip) ==10 :\n",
    "    cost =total_tip + total_tip *0.1\n",
    "elif (percentage_tip == 12):\n",
    "    cost = total_tip +total_tip  *0.12\n",
    "elif (percentage_tip == 15):\n",
    "     cost = total_tip + total_tip *0.15\n",
    "        \n",
    "\n",
    "number_people = int(input(\"How Many People to split The Bill: \")) \n",
    "\n",
    "person_payment = cost / number_people \n",
    "\n",
    "print(f\"Each persone should pay: ${round(person_payment,2)}\")\n",
    "\n",
    "        \n",
    "\n"
   ]
  },
  {
   "cell_type": "code",
   "execution_count": null,
   "id": "2d23f5b7",
   "metadata": {},
   "outputs": [],
   "source": []
  }
 ],
 "metadata": {
  "kernelspec": {
   "display_name": "Python 3",
   "language": "python",
   "name": "python3"
  },
  "language_info": {
   "codemirror_mode": {
    "name": "ipython",
    "version": 3
   },
   "file_extension": ".py",
   "mimetype": "text/x-python",
   "name": "python",
   "nbconvert_exporter": "python",
   "pygments_lexer": "ipython3",
   "version": "3.8.1"
  }
 },
 "nbformat": 4,
 "nbformat_minor": 5
}
