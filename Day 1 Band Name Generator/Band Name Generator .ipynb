{
 "cells": [
  {
   "cell_type": "code",
   "execution_count": 11,
   "id": "528cdb87",
   "metadata": {},
   "outputs": [
    {
     "name": "stdout",
     "output_type": "stream",
     "text": [
      "HELLO User, Welcome to the Band Name Generator.\n",
      "First, Whats is The name of city That you were grew up in ?? \n",
      "setif\n",
      "what was the type of pets that you had when you were a child ?? \n",
      "dog\n",
      "Your Band Name cold be .. dog setif\n"
     ]
    }
   ],
   "source": [
    "### Creat A greeting of your Programme \n",
    "print('HELLO User, Welcome to the Band Name Generator.')\n",
    "### Ask user for city where they grew up in \n",
    "city = input('First, Whats is The name of city That you were grew up in ?? \\n')\n",
    "### ask the user for the name of the user that they raised \n",
    "pet  = input('what was the type of pets that you had when you were a child ?? \\n')\n",
    "### combine the name of city and the name of the pet \n",
    "print('Your Band Name cold be .. '+pet+' '+city)\n",
    "\n"
   ]
  },
  {
   "cell_type": "code",
   "execution_count": null,
   "id": "8b3e1515",
   "metadata": {},
   "outputs": [],
   "source": []
  },
  {
   "cell_type": "code",
   "execution_count": null,
   "id": "0bc93f22",
   "metadata": {},
   "outputs": [],
   "source": []
  },
  {
   "cell_type": "code",
   "execution_count": null,
   "id": "cb045105",
   "metadata": {},
   "outputs": [],
   "source": []
  }
 ],
 "metadata": {
  "kernelspec": {
   "display_name": "Python 3",
   "language": "python",
   "name": "python3"
  },
  "language_info": {
   "codemirror_mode": {
    "name": "ipython",
    "version": 3
   },
   "file_extension": ".py",
   "mimetype": "text/x-python",
   "name": "python",
   "nbconvert_exporter": "python",
   "pygments_lexer": "ipython3",
   "version": "3.8.1"
  }
 },
 "nbformat": 4,
 "nbformat_minor": 5
}
